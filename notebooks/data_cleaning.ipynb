{
 "cells": [
  {
   "cell_type": "markdown",
   "id": "73b0bcce",
   "metadata": {},
   "source": [
    "# 🧪 Task 1.1: Initial Data Inspection\n",
    "This step involves loading the dataset and performing a basic exploratory overview, including checking structure, types, sample records, and identifying any missing values or datatype issues."
   ]
  },
  {
   "cell_type": "markdown",
   "id": "fd83866a",
   "metadata": {},
   "source": [
    "## 🔹 Load the Dataset\n",
    "We'll begin by importing necessary libraries and loading the `hotel_bookings.csv` dataset into a DataFrame."
   ]
  },
  {
   "cell_type": "code",
   "execution_count": 6,
   "id": "87547c6e",
   "metadata": {},
   "outputs": [],
   "source": [
    "import pandas as pd\n",
    "\n",
    "# Load the dataset\n",
    "df = pd.read_csv('../data/hotel_bookings.csv')"
   ]
  },
  {
   "cell_type": "markdown",
   "id": "91eb5642",
   "metadata": {},
   "source": [
    "## 🔹 Dataset Shape and Column Data Types\n",
    "Check how many rows and columns the dataset has and what type of data each column contains."
   ]
  },
  {
   "cell_type": "code",
   "execution_count": 7,
   "id": "9da59e60",
   "metadata": {},
   "outputs": [
    {
     "name": "stdout",
     "output_type": "stream",
     "text": [
      "Shape of the dataset: (119390, 32)\n",
      "\n",
      "Column Data Types:\n",
      "\n",
      "hotel                              object\n",
      "is_canceled                         int64\n",
      "lead_time                           int64\n",
      "arrival_date_year                   int64\n",
      "arrival_date_month                 object\n",
      "arrival_date_week_number            int64\n",
      "arrival_date_day_of_month           int64\n",
      "stays_in_weekend_nights             int64\n",
      "stays_in_week_nights                int64\n",
      "adults                              int64\n",
      "children                          float64\n",
      "babies                              int64\n",
      "meal                               object\n",
      "country                            object\n",
      "market_segment                     object\n",
      "distribution_channel               object\n",
      "is_repeated_guest                   int64\n",
      "previous_cancellations              int64\n",
      "previous_bookings_not_canceled      int64\n",
      "reserved_room_type                 object\n",
      "assigned_room_type                 object\n",
      "booking_changes                     int64\n",
      "deposit_type                       object\n",
      "agent                             float64\n",
      "company                           float64\n",
      "days_in_waiting_list                int64\n",
      "customer_type                      object\n",
      "adr                               float64\n",
      "required_car_parking_spaces         int64\n",
      "total_of_special_requests           int64\n",
      "reservation_status                 object\n",
      "reservation_status_date            object\n",
      "dtype: object\n"
     ]
    }
   ],
   "source": [
    "# Shape of the dataset\n",
    "print(\"Shape of the dataset:\", df.shape)\n",
    "\n",
    "# Data types of each column\n",
    "print(\"\\nColumn Data Types:\\n\")\n",
    "print(df.dtypes)"
   ]
  }
 ],
 "metadata": {
  "kernelspec": {
   "display_name": "NatureInspierdAlgorithm",
   "language": "python",
   "name": "python3"
  },
  "language_info": {
   "codemirror_mode": {
    "name": "ipython",
    "version": 3
   },
   "file_extension": ".py",
   "mimetype": "text/x-python",
   "name": "python",
   "nbconvert_exporter": "python",
   "pygments_lexer": "ipython3",
   "version": "3.7.1"
  }
 },
 "nbformat": 4,
 "nbformat_minor": 5
}
